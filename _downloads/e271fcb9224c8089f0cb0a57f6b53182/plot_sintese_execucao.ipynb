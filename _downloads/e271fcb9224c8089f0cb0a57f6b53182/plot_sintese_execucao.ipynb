{
  "cells": [
    {
      "cell_type": "markdown",
      "metadata": {},
      "source": [
        "\n# S\u00edntese da Execu\u00e7\u00e3o\n"
      ]
    },
    {
      "cell_type": "markdown",
      "metadata": {},
      "source": [
        "Para realizar a s\u00edntese da execu\u00e7\u00e3o de um caso do DESSEM \u00e9 necess\u00e1rio estar em um diret\u00f3rio\nno qual est\u00e3o os principais arquivos de sa\u00edda do modelo. Por exemplo, para se realizar a\ns\u00edntese de tempo de execu\u00e7\u00e3o, \u00e9 necessario o `LOG_MATRIZ`, para a s\u00edntese de custos,\no `DES_LOG_RELATO`. Neste contexto,\nbasta fazer::\n\n   $ sintetizador-decomp execucao\n\n\n"
      ]
    },
    {
      "cell_type": "markdown",
      "metadata": {},
      "source": [
        "O sintetizador ir\u00e1 exibir o log da sua execu\u00e7\u00e3o::\n\n   >>> 2025-04-08 15:01:01,797 INFO: # Realizando s\u00edntese da EXECU\u00c7\u00c3O #\n   >>> 2025-04-08 15:01:01,798 INFO: Realizando s\u00edntese de PROGRAMA\n   >>> 2025-04-08 15:01:01,851 INFO: Tempo para sintese de PROGRAMA: 0.05 s\n   >>> 2025-04-08 15:01:01,851 INFO: Realizando s\u00edntese de VERSAO\n   >>> 2025-04-08 15:01:01,902 INFO: Lendo arquivo DES_LOG_RELATO.DAT\n   >>> 2025-04-08 15:01:03,206 INFO: Tempo para sintese de VERSAO: 1.35 s\n   >>> 2025-04-08 15:01:03,206 INFO: Realizando s\u00edntese de TITULO\n   >>> 2025-04-08 15:01:03,209 INFO: Tempo para sintese de TITULO: 0.00 s\n   >>> 2025-04-08 15:01:03,210 INFO: Realizando s\u00edntese de TEMPO\n   >>> 2025-04-08 15:01:03,244 INFO: Lendo arquivo LOG_MATRIZ.DAT\n   >>> 2025-04-08 15:01:03,251 INFO: Tempo para sintese de TEMPO: 0.04 s\n   >>> 2025-04-08 15:01:03,251 INFO: Realizando s\u00edntese de CUSTOS\n   >>> 2025-04-08 15:01:03,261 INFO: Tempo para sintese de CUSTOS: 0.01 s\n   >>> 2025-04-08 15:01:03,305 INFO: Tempo para sintese da execucao: 1.51 s\n   >>> 2025-04-08 15:01:03,305 INFO: # Fim da s\u00edntese #\n\n"
      ]
    },
    {
      "cell_type": "markdown",
      "metadata": {},
      "source": [
        "Os arquivos ser\u00e3o salvos no subdiret\u00f3rio `sintese`. Para realizar o processamento,\npode ser utilizado o pr\u00f3prio `python`:\n\n"
      ]
    },
    {
      "cell_type": "code",
      "execution_count": null,
      "metadata": {
        "collapsed": false
      },
      "outputs": [],
      "source": [
        "import plotly.express as px\nfrom datetime import timedelta\nimport pandas as pd"
      ]
    },
    {
      "cell_type": "markdown",
      "metadata": {},
      "source": [
        "Para a s\u00edntese da execu\u00e7\u00e3o \u00e9 produzido um arquivo com as informa\u00e7\u00f5es das s\u00ednteses\nque foram realizadas:\n\n"
      ]
    },
    {
      "cell_type": "code",
      "execution_count": null,
      "metadata": {
        "collapsed": false
      },
      "outputs": [],
      "source": [
        "metadados = pd.read_parquet(\"sintese/METADADOS_EXECUCAO.parquet\")\nprint(metadados)\n\n# A leitura das s\u00ednteses realizadas pode ser feita da seguinte forma:\ncustos = pd.read_parquet(\"sintese/CUSTOS.parquet\")\ntempo = pd.read_parquet(\"sintese/TEMPO.parquet\")"
      ]
    },
    {
      "cell_type": "markdown",
      "metadata": {},
      "source": [
        "O formato dos dados de CUSTOS:\n\n"
      ]
    },
    {
      "cell_type": "code",
      "execution_count": null,
      "metadata": {
        "collapsed": false
      },
      "outputs": [],
      "source": [
        "print(custos)"
      ]
    },
    {
      "cell_type": "markdown",
      "metadata": {},
      "source": [
        "O formato dos dados de TEMPO:\n\n"
      ]
    },
    {
      "cell_type": "code",
      "execution_count": null,
      "metadata": {
        "collapsed": false
      },
      "outputs": [],
      "source": [
        "print(tempo)"
      ]
    },
    {
      "cell_type": "markdown",
      "metadata": {},
      "source": [
        "Quando se analisam os custos de cada fonte, geralmente s\u00e3o feitos gr\u00e1ficos de barras\nempilhadas ou setores:\n\n"
      ]
    },
    {
      "cell_type": "code",
      "execution_count": null,
      "metadata": {
        "collapsed": false
      },
      "outputs": [],
      "source": [
        "fig = px.pie(\n    custos.loc[custos[\"valor_esperado\"] > 0],\n    values=\"valor_esperado\",\n    names=\"parcela\",\n)\nfig"
      ]
    },
    {
      "cell_type": "markdown",
      "metadata": {},
      "source": [
        "Uma abordagem semelhante \u00e9 utilizada na an\u00e1lise do tempo de execu\u00e7\u00e3o:\n\n"
      ]
    },
    {
      "cell_type": "code",
      "execution_count": null,
      "metadata": {
        "collapsed": false
      },
      "outputs": [],
      "source": [
        "tempo[\"tempo\"] = pd.to_timedelta(tempo[\"tempo\"], unit=\"s\") / timedelta(hours=1)\ntempo[\"label\"] = [str(timedelta(hours=d)) for d in tempo[\"tempo\"].tolist()]\nfig = px.bar(\n    tempo,\n    x=\"etapa\",\n    y=\"tempo\",\n    text=\"label\",\n    barmode=\"group\",\n)\nfig"
      ]
    }
  ],
  "metadata": {
    "kernelspec": {
      "display_name": "Python 3",
      "language": "python",
      "name": "python3"
    },
    "language_info": {
      "codemirror_mode": {
        "name": "ipython",
        "version": 3
      },
      "file_extension": ".py",
      "mimetype": "text/x-python",
      "name": "python",
      "nbconvert_exporter": "python",
      "pygments_lexer": "ipython3",
      "version": "3.12.10"
    }
  },
  "nbformat": 4,
  "nbformat_minor": 0
}