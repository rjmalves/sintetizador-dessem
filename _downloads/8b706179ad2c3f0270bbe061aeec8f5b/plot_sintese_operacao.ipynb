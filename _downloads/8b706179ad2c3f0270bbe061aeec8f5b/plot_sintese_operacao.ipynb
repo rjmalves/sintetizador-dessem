{
  "cells": [
    {
      "cell_type": "markdown",
      "metadata": {},
      "source": [
        "\n# S\u00edntese da Opera\u00e7\u00e3o\n"
      ]
    },
    {
      "cell_type": "markdown",
      "metadata": {},
      "source": [
        "Para realizar a s\u00edntese da opera\u00e7\u00e3o de um caso do DESSEM \u00e9 necess\u00e1rio estar em um diret\u00f3rio\nno qual est\u00e3o os principais arquivos de sa\u00edda do modelo.\nAl\u00e9m dos arquivos dos quais s\u00e3o extra\u00eddas as vari\u00e1veis em si, s\u00e3o lidos tamb\u00e9m alguns arquivos de entrada\ndo modelo, como o `entdados`, `dadvaz`, `dessem.arq` e `operuh`. Neste contexto, basta fazer::\n\n   $ sintetizador-dessem operacao\n\n\n"
      ]
    },
    {
      "cell_type": "markdown",
      "metadata": {},
      "source": [
        "O sintetizador ir\u00e1 exibir o log da sua execu\u00e7\u00e3o::\n\n   >>> 2025-04-08 14:26:58,020 INFO: # Realizando s\u00edntese da OPERACAO #\n   >>> .\n   >>> .\n   >>> .\n   >>> 2025-04-08 14:27:18,274 INFO: Realizando sintese de CFU_SIN\n   >>> 2025-04-08 14:27:18,317 INFO: Tempo para obten\u00e7\u00e3o dos dados do pdo_operacao para SIN: 0.04 s\n   >>> 2025-04-08 14:27:18,318 INFO: Tempo para compactacao dos dados: 0.00 s\n   >>> 2025-04-08 14:27:18,319 INFO: Tempo para calculo dos limites: 0.00 s\n   >>> 2025-04-08 14:27:18,327 INFO: Tempo para preparacao para exportacao: 0.01 s\n   >>> 2025-04-08 14:27:18,334 INFO: Tempo para exportacao dos dados: 0.01 s\n   >>> 2025-04-08 14:27:18,334 INFO: Tempo para sintese de CFU_SIN: 0.06 s\n   >>> 2025-04-08 14:27:18,335 INFO: Realizando sintese de INT_SBP\n   >>> 2025-04-08 14:27:18,398 INFO: Lendo arquivo PDO_INTER.DAT\n   >>> 2025-04-08 14:27:18,946 INFO: Tempo para obten\u00e7\u00e3o dos dados do pdo_inter para SBP: 0.61 s\n   >>> 2025-04-08 14:27:18,948 INFO: Tempo para compactacao dos dados: 0.00 s\n   >>> 2025-04-08 14:27:18,949 INFO: Tempo para calculo dos limites: 0.00 s\n   >>> 2025-04-08 14:27:18,956 INFO: Tempo para preparacao para exportacao: 0.01 s\n   >>> 2025-04-08 14:27:18,963 INFO: Tempo para exportacao dos dados: 0.01 s\n   >>> 2025-04-08 14:27:18,963 INFO: Tempo para sintese de INT_SBP: 0.63 s\n   >>> 2025-04-08 14:27:18,963 INFO: Realizando sintese de VCALHA_UHE\n   >>> 2025-04-08 14:27:19,009 INFO: Lendo arquivo PDO_OPER_TVIAG_CALHA.DAT\n   >>> 2025-04-08 14:27:19,108 INFO: Tempo para obten\u00e7\u00e3o dos dados do pdo_oper_tviag_calha para UHE: 0.14 s\n   >>> 2025-04-08 14:27:19,110 INFO: Tempo para compactacao dos dados: 0.00 s\n   >>> 2025-04-08 14:27:19,111 INFO: Tempo para calculo dos limites: 0.00 s\n   >>> 2025-04-08 14:27:19,120 INFO: Tempo para preparacao para exportacao: 0.01 s\n   >>> 2025-04-08 14:27:19,129 INFO: Tempo para exportacao dos dados: 0.01 s\n   >>> 2025-04-08 14:27:19,130 INFO: Tempo para sintese de VCALHA_UHE: 0.17 s\n   >>> 2025-04-08 14:27:19,366 INFO: Tempo para sintese da operacao: 21.34 s\n   >>> 2025-04-08 14:27:19,366 INFO: # Fim da s\u00edntese #\n\n"
      ]
    },
    {
      "cell_type": "markdown",
      "metadata": {},
      "source": [
        "Os arquivos ser\u00e3o salvos no subdiret\u00f3rio `sintese`. Para realizar o processamento,\npode ser utilizado o pr\u00f3prio `python`:\n\n"
      ]
    },
    {
      "cell_type": "code",
      "execution_count": null,
      "metadata": {
        "collapsed": false
      },
      "outputs": [],
      "source": [
        "import plotly.express as px\nimport pandas as pd"
      ]
    },
    {
      "cell_type": "markdown",
      "metadata": {},
      "source": [
        "Para a s\u00edntese da opera\u00e7\u00e3o \u00e9 produzido um arquivo com as informa\u00e7\u00f5es das s\u00ednteses\nque foram realizadas:\n\n"
      ]
    },
    {
      "cell_type": "code",
      "execution_count": null,
      "metadata": {
        "collapsed": false
      },
      "outputs": [],
      "source": [
        "metadados = pd.read_parquet(\"sintese/METADADOS_OPERACAO.parquet\")\nprint(metadados.head(10))"
      ]
    },
    {
      "cell_type": "markdown",
      "metadata": {},
      "source": [
        "Os arquivos com os nomes das s\u00ednteses de opera\u00e7\u00e3o armazenam os dados\nde todos os cen\u00e1rios simulados.\n\n"
      ]
    },
    {
      "cell_type": "code",
      "execution_count": null,
      "metadata": {
        "collapsed": false
      },
      "outputs": [],
      "source": [
        "cmo = pd.read_parquet(\"sintese/CMO_SBM.parquet\")\ngter = pd.read_parquet(\"sintese/GTER_UTE.parquet\")\nmer = pd.read_parquet(\"sintese/MER_SIN.parquet\")"
      ]
    },
    {
      "cell_type": "markdown",
      "metadata": {},
      "source": [
        "O formato dos dados de GTER:\n\n"
      ]
    },
    {
      "cell_type": "code",
      "execution_count": null,
      "metadata": {
        "collapsed": false
      },
      "outputs": [],
      "source": [
        "print(gter.head(10))"
      ]
    },
    {
      "cell_type": "markdown",
      "metadata": {},
      "source": [
        "Os tipos de dados da s\u00edntese de GTER:\n\n"
      ]
    },
    {
      "cell_type": "code",
      "execution_count": null,
      "metadata": {
        "collapsed": false
      },
      "outputs": [],
      "source": [
        "gter.dtypes"
      ]
    },
    {
      "cell_type": "markdown",
      "metadata": {},
      "source": [
        "O formato dos dados de MER:\n\n"
      ]
    },
    {
      "cell_type": "code",
      "execution_count": null,
      "metadata": {
        "collapsed": false
      },
      "outputs": [],
      "source": [
        "print(mer.head(10))"
      ]
    },
    {
      "cell_type": "markdown",
      "metadata": {},
      "source": [
        "Os tipos de dados da s\u00edntese de MER:\n\n"
      ]
    },
    {
      "cell_type": "code",
      "execution_count": null,
      "metadata": {
        "collapsed": false
      },
      "outputs": [],
      "source": [
        "mer.dtypes"
      ]
    },
    {
      "cell_type": "markdown",
      "metadata": {},
      "source": [
        "O formato dos dados de MER:\n\n"
      ]
    },
    {
      "cell_type": "code",
      "execution_count": null,
      "metadata": {
        "collapsed": false
      },
      "outputs": [],
      "source": [
        "print(cmo.head(10))"
      ]
    },
    {
      "cell_type": "markdown",
      "metadata": {},
      "source": [
        "Os tipos de dados da s\u00edntese de MER:\n\n"
      ]
    },
    {
      "cell_type": "code",
      "execution_count": null,
      "metadata": {
        "collapsed": false
      },
      "outputs": [],
      "source": [
        "cmo.dtypes"
      ]
    },
    {
      "cell_type": "markdown",
      "metadata": {},
      "source": [
        "De modo geral, os arquivos das s\u00ednteses de opera\u00e7\u00e3o sempre possuem as colunas\n`estagio`, `data_inicio`, `data_fim`, `cenario`, `patamar`, `duracao_patamar` e `valor`.\nA depender se o arquivo \u00e9 relativo a uma agrega\u00e7\u00e3o espacial diferente de todo o SIN ou\nagrega\u00e7\u00e3o temporal diferente do valor m\u00e9dio por est\u00e1gio, existir\u00e3o outras colunas\nadicionais para determinar de qual subconjunto da agrega\u00e7\u00e3o o dado pertence. Por exemplo,\nno arquivo da s\u00edntese de CMO_SBM, existe uma coluna adicional de nome `codigo_submercado`.\n\n"
      ]
    },
    {
      "cell_type": "markdown",
      "metadata": {},
      "source": [
        "A coluna de cen\u00e1rios cont\u00e9m n\u00e3o somente inteiros de 1 a N, onde N \u00e9 o n\u00famero de s\u00e9ries da\nsimula\u00e7\u00e3o final do modelo. No caso espec\u00edfico do DESSEM, determin\u00edstico, apenas o cen\u00e1rio\nde \u00edndice 1 \u00e9 obervado.\n\n"
      ]
    },
    {
      "cell_type": "code",
      "execution_count": null,
      "metadata": {
        "collapsed": false
      },
      "outputs": [],
      "source": [
        "cenarios = mer[\"cenario\"].unique().tolist()\nprint(cenarios)"
      ]
    },
    {
      "cell_type": "markdown",
      "metadata": {},
      "source": [
        "Para vari\u00e1veis da opera\u00e7\u00e3o que possuam diferentes subconjuntos, como os submercados, podem ser visualizadas as\nvari\u00e1veis simult\u00e2neamente.\n\n"
      ]
    },
    {
      "cell_type": "code",
      "execution_count": null,
      "metadata": {
        "collapsed": false
      },
      "outputs": [],
      "source": [
        "fig = px.line(\n    cmo,\n    x=\"data_fim\",\n    y=\"valor\",\n    color=\"codigo_submercado\",\n)\nfig"
      ]
    },
    {
      "cell_type": "markdown",
      "metadata": {},
      "source": [
        "Para dados por UTE, como o n\u00famero de subconjuntos \u00e9 muito grande, \u00e9 poss\u00edvel\nfazer um subconjunto dos elementos de interesse para a visualiza\u00e7\u00e3o:\n\n"
      ]
    },
    {
      "cell_type": "code",
      "execution_count": null,
      "metadata": {
        "collapsed": false
      },
      "outputs": [],
      "source": [
        "gter_ute = gter.loc[gter[\"codigo_usina\"].isin([1, 13, 146, 383])]\nfig = px.line(\n    gter_ute,\n    x=\"data_inicio\",\n    y=\"valor\",\n    facet_col_wrap=2,\n    facet_col=\"codigo_usina\",\n)\nfig"
      ]
    },
    {
      "cell_type": "markdown",
      "metadata": {},
      "source": [
        "Al\u00e9m dos arquivos com as s\u00ednteses dos cen\u00e1rios, est\u00e3o dispon\u00edveis tamb\u00e9m os arquivos\nque agregam estat\u00edsticas das previs\u00f5es. No caso do DESSEM, determin\u00edstico, com apenas\n1 cen\u00e1rio, os arquivos que cont\u00e9m estat\u00edsticas apresentam apenas a estat\u00edstica de m\u00e9dia,\nque correspondem aos pr\u00f3prios valores por cen\u00e1rio observados nas s\u00ednteses individuais.\n\n"
      ]
    },
    {
      "cell_type": "code",
      "execution_count": null,
      "metadata": {
        "collapsed": false
      },
      "outputs": [],
      "source": [
        "estatisticas_uhe = pd.read_parquet(\"sintese/ESTATISTICAS_OPERACAO_UHE.parquet\")\nprint(estatisticas_uhe.head(10))\nmetricas = estatisticas_uhe[\"cenario\"].unique()\nprint(metricas)"
      ]
    }
  ],
  "metadata": {
    "kernelspec": {
      "display_name": "Python 3",
      "language": "python",
      "name": "python3"
    },
    "language_info": {
      "codemirror_mode": {
        "name": "ipython",
        "version": 3
      },
      "file_extension": ".py",
      "mimetype": "text/x-python",
      "name": "python",
      "nbconvert_exporter": "python",
      "pygments_lexer": "ipython3",
      "version": "3.12.10"
    }
  },
  "nbformat": 4,
  "nbformat_minor": 0
}